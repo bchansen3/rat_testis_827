{
 "cells": [
  {
   "cell_type": "code",
   "execution_count": null,
   "metadata": {},
   "outputs": [],
   "source": [
    "countPATH <- \"/bigdata/faustmanlab/bch/gse108348_counts/counts\"\n",
    "\n",
    "files <- list.files(path=countPATH, pattern=\"*.tab\", full.names=TRUE)\n",
    "names(files) <- lapply(strsplit(files, \"/|_\"), \"[\",8)\n",
    "countslist <- lapply(files, read.delim, sep=\"\\t\", header=FALSE)\n",
    "names(countslist)<- names(files)\n",
    "colnames<- c(\"gene\", \"unstranded_counts\", \"htseq_count_Fstreadalign\",\"htseq_countrev_Sndreadalign\")\n"
   ]
  },
  {
   "cell_type": "code",
   "execution_count": null,
   "metadata": {},
   "outputs": [],
   "source": [
    "# check that this is proper column\n",
    "\n",
    "for (i in seq_along(countslist)){\n",
    "  colnames(countslist[[i]]) <- colnames}\n",
    "\n",
    "counts_temp <- lapply(countslist, function(x) {x <- x %>% dplyr::select(-c(unstranded_counts,htseq_count_Fstreadalign))})\n",
    "counts_use <- lapply(counts_temp, function(x) {x <- x[-c(1:4),]})\n",
    "all_counts <- reduce(counts_use, full_join, by = \"gene\")\n",
    "colnames(all_counts)<-c(\"gene\", names(counts_use))\n",
    "\n",
    "rownames(all_counts)<- all_counts$gene\n",
    "all_counts <- all_counts[,-1]\n",
    "\n",
    "\n",
    "\n",
    "head(all_counts)\n",
    "\n",
    "counts108348 = all_counts"
   ]
  }
 ],
 "metadata": {
  "language_info": {
   "name": "python"
  },
  "orig_nbformat": 4
 },
 "nbformat": 4,
 "nbformat_minor": 2
}
