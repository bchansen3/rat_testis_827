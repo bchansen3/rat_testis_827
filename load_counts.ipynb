{
 "cells": [
  {
   "cell_type": "code",
   "execution_count": 1,
   "metadata": {},
   "outputs": [
    {
     "name": "stderr",
     "output_type": "stream",
     "text": [
      "Bioconductor version '3.10' is out-of-date; the current release version '3.15'\n",
      "  is available with R version '4.2'; see https://bioconductor.org/install\n",
      "\n",
      "'getOption(\"repos\")' replaces Bioconductor standard repositories, see\n",
      "'?repositories' for details\n",
      "\n",
      "replacement repositories:\n",
      "    CRAN: https://cran.r-project.org\n",
      "\n",
      "\n",
      "Bioconductor version 3.10 (BiocManager 1.30.19), R 3.6.1 (2019-07-05)\n",
      "\n",
      "Installing package(s) 'DESeq2'\n",
      "\n",
      "Warning message:\n",
      "“dependency ‘locfit’ is not available”\n",
      "also installing the dependencies ‘cli’, ‘fastmap’, ‘bit’, ‘vctrs’, ‘cachem’, ‘bitops’, ‘bit64’, ‘blob’, ‘memoise’, ‘Rcpp’, ‘deldir’, ‘RcppEigen’, ‘RCurl’, ‘zlibbioc’, ‘matrixStats’, ‘RSQLite’, ‘XML’, ‘png’, ‘jpeg’, ‘interp’, ‘checkmate’, ‘GenomeInfoDb’, ‘XVector’, ‘DelayedArray’, ‘AnnotationDbi’, ‘annotate’, ‘survival’, ‘latticeExtra’, ‘htmlTable’, ‘S4Vectors’, ‘IRanges’, ‘GenomicRanges’, ‘SummarizedExperiment’, ‘Biobase’, ‘BiocParallel’, ‘genefilter’, ‘geneplotter’, ‘Hmisc’, ‘RcppArmadillo’\n",
      "\n",
      "\n"
     ]
    }
   ],
   "source": [
    "if (!require(\"BiocManager\", quietly = TRUE))\n",
    "    install.packages(\"BiocManager\")\n",
    "\n",
    "BiocManager::install(\"DESeq2\")"
   ]
  },
  {
   "cell_type": "code",
   "execution_count": 2,
   "metadata": {},
   "outputs": [
    {
     "name": "stderr",
     "output_type": "stream",
     "text": [
      "\n",
      "Attaching package: ‘dplyr’\n",
      "\n",
      "\n",
      "The following objects are masked from ‘package:stats’:\n",
      "\n",
      "    filter, lag\n",
      "\n",
      "\n",
      "The following objects are masked from ‘package:base’:\n",
      "\n",
      "    intersect, setdiff, setequal, union\n",
      "\n",
      "\n",
      "Registered S3 methods overwritten by 'ggplot2':\n",
      "  method         from \n",
      "  [.quosures     rlang\n",
      "  c.quosures     rlang\n",
      "  print.quosures rlang\n",
      "\n",
      "Registered S3 method overwritten by 'rvest':\n",
      "  method            from\n",
      "  read_xml.response xml2\n",
      "\n",
      "── \u001b[1mAttaching packages\u001b[22m ─────────────────────────────────────── tidyverse 1.2.1 ──\n",
      "\n",
      "\u001b[32m✔\u001b[39m \u001b[34mggplot2\u001b[39m 3.1.1     \u001b[32m✔\u001b[39m \u001b[34mreadr  \u001b[39m 1.3.1\n",
      "\u001b[32m✔\u001b[39m \u001b[34mtibble \u001b[39m 2.1.1     \u001b[32m✔\u001b[39m \u001b[34mpurrr  \u001b[39m 0.3.2\n",
      "\u001b[32m✔\u001b[39m \u001b[34mtidyr  \u001b[39m 0.8.3     \u001b[32m✔\u001b[39m \u001b[34mstringr\u001b[39m 1.4.0\n",
      "\u001b[32m✔\u001b[39m \u001b[34mggplot2\u001b[39m 3.1.1     \u001b[32m✔\u001b[39m \u001b[34mforcats\u001b[39m 0.4.0\n",
      "\n",
      "── \u001b[1mConflicts\u001b[22m ────────────────────────────────────────── tidyverse_conflicts() ──\n",
      "\u001b[31m✖\u001b[39m \u001b[34mdplyr\u001b[39m::\u001b[32mfilter()\u001b[39m masks \u001b[34mstats\u001b[39m::filter()\n",
      "\u001b[31m✖\u001b[39m \u001b[34mdplyr\u001b[39m::\u001b[32mlag()\u001b[39m    masks \u001b[34mstats\u001b[39m::lag()\n",
      "\n"
     ]
    },
    {
     "ename": "ERROR",
     "evalue": "Error in library(DESeq2): there is no package called ‘DESeq2’\n",
     "output_type": "error",
     "traceback": [
      "Error in library(DESeq2): there is no package called ‘DESeq2’\nTraceback:\n",
      "1. library(DESeq2)"
     ]
    }
   ],
   "source": [
    "library(dplyr)\n",
    "library(tidyverse)\n",
    "library(DESeq2)"
   ]
  },
  {
   "cell_type": "code",
   "execution_count": 3,
   "metadata": {},
   "outputs": [],
   "source": [
    "countPATH <- \"/bigdata/faustmanlab/bch/testis_coculture_baseline/aligned/count_files\"\n",
    "\n",
    "files <- list.files(path=countPATH, pattern=\"*.tab\", full.names=TRUE)\n",
    "names(files) <- lapply(strsplit(files, \"/\"), \"[\",8)\n",
    "countslist <- lapply(files, read.delim, sep=\"\\t\", header=FALSE)\n",
    "names(countslist)<- names(files)\n",
    "colnames<- c(\"gene\", \"unstranded_counts\", \"Fstreadalign\",\"Sndreadalign\")\n"
   ]
  },
  {
   "cell_type": "code",
   "execution_count": null,
   "metadata": {},
   "outputs": [],
   "source": [
    "countslist[[1]]"
   ]
  },
  {
   "cell_type": "code",
   "execution_count": 4,
   "metadata": {},
   "outputs": [
    {
     "data": {
      "text/html": [
       "<table>\n",
       "<thead><tr><th></th><th scope=col>A_827_S1_ReadsPerGene.out.tab</th><th scope=col>B_827_S2_ReadsPerGene.out.tab</th><th scope=col>C_827_S3_ReadsPerGene.out.tab</th><th scope=col>D1_A2_Day3_ReadsPerGene.out.tab</th><th scope=col>D1_A3_Day5_ReadsPerGene.out.tab</th><th scope=col>D1_A4_Day7_ReadsPerGene.out.tab</th><th scope=col>D2_A3_Day5_ReadsPerGene.out.tab</th><th scope=col>D2_A4_Day7_ReadsPerGene.out.tab</th><th scope=col>D3_A2_Day3_ReadsPerGene.out.tab</th><th scope=col>D3_A3_Day5_ReadsPerGene.out.tab</th><th scope=col>D3_A4_Day7_ReadsPerGene.out.tab</th><th scope=col>D4_A2_Day3_ReadsPerGene.out.tab</th></tr></thead>\n",
       "<tbody>\n",
       "\t<tr><th scope=row>ENSRNOG00000066169</th><td>  0 </td><td>  7 </td><td>  6 </td><td>   4</td><td>  0 </td><td>  3 </td><td>   0</td><td>   6</td><td>   5</td><td>  0 </td><td>   2</td><td>   4</td></tr>\n",
       "\t<tr><th scope=row>ENSRNOG00000070168</th><td>  0 </td><td>  0 </td><td>  0 </td><td>   0</td><td>  0 </td><td>  0 </td><td>   0</td><td>   0</td><td>   0</td><td>  0 </td><td>   0</td><td>   0</td></tr>\n",
       "\t<tr><th scope=row>ENSRNOG00000070901</th><td>560 </td><td>709 </td><td>747 </td><td>1383</td><td>928 </td><td>913 </td><td>1489</td><td>1273</td><td>1691</td><td>909 </td><td>1020</td><td>1086</td></tr>\n",
       "\t<tr><th scope=row>ENSRNOG00000018029</th><td> 43 </td><td> 35 </td><td> 32 </td><td>  37</td><td> 20 </td><td> 24 </td><td>  34</td><td>  48</td><td>  33</td><td> 18 </td><td>  25</td><td>  51</td></tr>\n",
       "\t<tr><th scope=row>ENSRNOG00000031391</th><td>  5 </td><td> 29 </td><td> 35 </td><td>   0</td><td>  0 </td><td>  1 </td><td>   2</td><td>   0</td><td>   2</td><td>  0 </td><td>   0</td><td>   0</td></tr>\n",
       "\t<tr><th scope=row>ENSRNOG00000055342</th><td>  0 </td><td>  0 </td><td>  0 </td><td>   0</td><td>  0 </td><td>  0 </td><td>   0</td><td>   0</td><td>   0</td><td>  0 </td><td>   0</td><td>   0</td></tr>\n",
       "</tbody>\n",
       "</table>\n"
      ],
      "text/latex": [
       "\\begin{tabular}{r|llllllllllll}\n",
       "  & A\\_827\\_S1\\_ReadsPerGene.out.tab & B\\_827\\_S2\\_ReadsPerGene.out.tab & C\\_827\\_S3\\_ReadsPerGene.out.tab & D1\\_A2\\_Day3\\_ReadsPerGene.out.tab & D1\\_A3\\_Day5\\_ReadsPerGene.out.tab & D1\\_A4\\_Day7\\_ReadsPerGene.out.tab & D2\\_A3\\_Day5\\_ReadsPerGene.out.tab & D2\\_A4\\_Day7\\_ReadsPerGene.out.tab & D3\\_A2\\_Day3\\_ReadsPerGene.out.tab & D3\\_A3\\_Day5\\_ReadsPerGene.out.tab & D3\\_A4\\_Day7\\_ReadsPerGene.out.tab & D4\\_A2\\_Day3\\_ReadsPerGene.out.tab\\\\\n",
       "\\hline\n",
       "\tENSRNOG00000066169 &   0  &   7  &   6  &    4 &   0  &   3  &    0 &    6 &    5 &   0  &    2 &    4\\\\\n",
       "\tENSRNOG00000070168 &   0  &   0  &   0  &    0 &   0  &   0  &    0 &    0 &    0 &   0  &    0 &    0\\\\\n",
       "\tENSRNOG00000070901 & 560  & 709  & 747  & 1383 & 928  & 913  & 1489 & 1273 & 1691 & 909  & 1020 & 1086\\\\\n",
       "\tENSRNOG00000018029 &  43  &  35  &  32  &   37 &  20  &  24  &   34 &   48 &   33 &  18  &   25 &   51\\\\\n",
       "\tENSRNOG00000031391 &   5  &  29  &  35  &    0 &   0  &   1  &    2 &    0 &    2 &   0  &    0 &    0\\\\\n",
       "\tENSRNOG00000055342 &   0  &   0  &   0  &    0 &   0  &   0  &    0 &    0 &    0 &   0  &    0 &    0\\\\\n",
       "\\end{tabular}\n"
      ],
      "text/markdown": [
       "\n",
       "| <!--/--> | A_827_S1_ReadsPerGene.out.tab | B_827_S2_ReadsPerGene.out.tab | C_827_S3_ReadsPerGene.out.tab | D1_A2_Day3_ReadsPerGene.out.tab | D1_A3_Day5_ReadsPerGene.out.tab | D1_A4_Day7_ReadsPerGene.out.tab | D2_A3_Day5_ReadsPerGene.out.tab | D2_A4_Day7_ReadsPerGene.out.tab | D3_A2_Day3_ReadsPerGene.out.tab | D3_A3_Day5_ReadsPerGene.out.tab | D3_A4_Day7_ReadsPerGene.out.tab | D4_A2_Day3_ReadsPerGene.out.tab |\n",
       "|---|---|---|---|---|---|---|---|---|---|---|---|---|\n",
       "| ENSRNOG00000066169 |   0  |   7  |   6  |    4 |   0  |   3  |    0 |    6 |    5 |   0  |    2 |    4 |\n",
       "| ENSRNOG00000070168 |   0  |   0  |   0  |    0 |   0  |   0  |    0 |    0 |    0 |   0  |    0 |    0 |\n",
       "| ENSRNOG00000070901 | 560  | 709  | 747  | 1383 | 928  | 913  | 1489 | 1273 | 1691 | 909  | 1020 | 1086 |\n",
       "| ENSRNOG00000018029 |  43  |  35  |  32  |   37 |  20  |  24  |   34 |   48 |   33 |  18  |   25 |   51 |\n",
       "| ENSRNOG00000031391 |   5  |  29  |  35  |    0 |   0  |   1  |    2 |    0 |    2 |   0  |    0 |    0 |\n",
       "| ENSRNOG00000055342 |   0  |   0  |   0  |    0 |   0  |   0  |    0 |    0 |    0 |   0  |    0 |    0 |\n",
       "\n"
      ],
      "text/plain": [
       "                   A_827_S1_ReadsPerGene.out.tab B_827_S2_ReadsPerGene.out.tab\n",
       "ENSRNOG00000066169   0                             7                          \n",
       "ENSRNOG00000070168   0                             0                          \n",
       "ENSRNOG00000070901 560                           709                          \n",
       "ENSRNOG00000018029  43                            35                          \n",
       "ENSRNOG00000031391   5                            29                          \n",
       "ENSRNOG00000055342   0                             0                          \n",
       "                   C_827_S3_ReadsPerGene.out.tab\n",
       "ENSRNOG00000066169   6                          \n",
       "ENSRNOG00000070168   0                          \n",
       "ENSRNOG00000070901 747                          \n",
       "ENSRNOG00000018029  32                          \n",
       "ENSRNOG00000031391  35                          \n",
       "ENSRNOG00000055342   0                          \n",
       "                   D1_A2_Day3_ReadsPerGene.out.tab\n",
       "ENSRNOG00000066169    4                           \n",
       "ENSRNOG00000070168    0                           \n",
       "ENSRNOG00000070901 1383                           \n",
       "ENSRNOG00000018029   37                           \n",
       "ENSRNOG00000031391    0                           \n",
       "ENSRNOG00000055342    0                           \n",
       "                   D1_A3_Day5_ReadsPerGene.out.tab\n",
       "ENSRNOG00000066169   0                            \n",
       "ENSRNOG00000070168   0                            \n",
       "ENSRNOG00000070901 928                            \n",
       "ENSRNOG00000018029  20                            \n",
       "ENSRNOG00000031391   0                            \n",
       "ENSRNOG00000055342   0                            \n",
       "                   D1_A4_Day7_ReadsPerGene.out.tab\n",
       "ENSRNOG00000066169   3                            \n",
       "ENSRNOG00000070168   0                            \n",
       "ENSRNOG00000070901 913                            \n",
       "ENSRNOG00000018029  24                            \n",
       "ENSRNOG00000031391   1                            \n",
       "ENSRNOG00000055342   0                            \n",
       "                   D2_A3_Day5_ReadsPerGene.out.tab\n",
       "ENSRNOG00000066169    0                           \n",
       "ENSRNOG00000070168    0                           \n",
       "ENSRNOG00000070901 1489                           \n",
       "ENSRNOG00000018029   34                           \n",
       "ENSRNOG00000031391    2                           \n",
       "ENSRNOG00000055342    0                           \n",
       "                   D2_A4_Day7_ReadsPerGene.out.tab\n",
       "ENSRNOG00000066169    6                           \n",
       "ENSRNOG00000070168    0                           \n",
       "ENSRNOG00000070901 1273                           \n",
       "ENSRNOG00000018029   48                           \n",
       "ENSRNOG00000031391    0                           \n",
       "ENSRNOG00000055342    0                           \n",
       "                   D3_A2_Day3_ReadsPerGene.out.tab\n",
       "ENSRNOG00000066169    5                           \n",
       "ENSRNOG00000070168    0                           \n",
       "ENSRNOG00000070901 1691                           \n",
       "ENSRNOG00000018029   33                           \n",
       "ENSRNOG00000031391    2                           \n",
       "ENSRNOG00000055342    0                           \n",
       "                   D3_A3_Day5_ReadsPerGene.out.tab\n",
       "ENSRNOG00000066169   0                            \n",
       "ENSRNOG00000070168   0                            \n",
       "ENSRNOG00000070901 909                            \n",
       "ENSRNOG00000018029  18                            \n",
       "ENSRNOG00000031391   0                            \n",
       "ENSRNOG00000055342   0                            \n",
       "                   D3_A4_Day7_ReadsPerGene.out.tab\n",
       "ENSRNOG00000066169    2                           \n",
       "ENSRNOG00000070168    0                           \n",
       "ENSRNOG00000070901 1020                           \n",
       "ENSRNOG00000018029   25                           \n",
       "ENSRNOG00000031391    0                           \n",
       "ENSRNOG00000055342    0                           \n",
       "                   D4_A2_Day3_ReadsPerGene.out.tab\n",
       "ENSRNOG00000066169    4                           \n",
       "ENSRNOG00000070168    0                           \n",
       "ENSRNOG00000070901 1086                           \n",
       "ENSRNOG00000018029   51                           \n",
       "ENSRNOG00000031391    0                           \n",
       "ENSRNOG00000055342    0                           "
      ]
     },
     "metadata": {},
     "output_type": "display_data"
    }
   ],
   "source": [
    "# check that this is proper column\n",
    "\n",
    "for (i in seq_along(countslist)){\n",
    "  colnames(countslist[[i]]) <- colnames}\n",
    "\n",
    "counts_temp <- lapply(countslist, function(x) {x <- x %>% dplyr::select(-c(Fstreadalign,Sndreadalign))})\n",
    "counts_use <- lapply(counts_temp, function(x) {x <- x[-c(1:4),]})\n",
    "all_counts <- reduce(counts_use, full_join, by = \"gene\")\n",
    "colnames(all_counts)<-c(\"gene\", names(counts_use))\n",
    "\n",
    "rownames(all_counts)<- all_counts$gene\n",
    "all_counts <- all_counts[,-1]\n",
    "\n",
    "\n",
    "\n",
    "head(all_counts)\n",
    "\n"
   ]
  }
 ],
 "metadata": {
  "interpreter": {
   "hash": "6e3c4fc0950aa63ef7bc9a4700bf9637652f40f7a53372464e6456fc41142b34"
  },
  "kernelspec": {
   "display_name": "R",
   "language": "R",
   "name": "ir"
  },
  "language_info": {
   "codemirror_mode": "r",
   "file_extension": ".r",
   "mimetype": "text/x-r-source",
   "name": "R",
   "pygments_lexer": "r",
   "version": "3.6.1"
  },
  "orig_nbformat": 4
 },
 "nbformat": 4,
 "nbformat_minor": 2
}
