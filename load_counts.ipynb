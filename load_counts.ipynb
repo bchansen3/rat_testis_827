{
 "cells": [
  {
   "cell_type": "code",
   "execution_count": 2,
   "metadata": {},
   "outputs": [
    {
     "ename": "SyntaxError",
     "evalue": "expression cannot contain assignment, perhaps you meant \"==\"? (4238285610.py, line 3)",
     "output_type": "error",
     "traceback": [
      "\u001b[0;36m  Input \u001b[0;32mIn [2]\u001b[0;36m\u001b[0m\n\u001b[0;31m    files <- list.files(path=countPATH, pattern=\"*.tab\", full.names=TRUE)\u001b[0m\n\u001b[0m                                                         ^\u001b[0m\n\u001b[0;31mSyntaxError\u001b[0m\u001b[0;31m:\u001b[0m expression cannot contain assignment, perhaps you meant \"==\"?\n"
     ]
    }
   ],
   "source": [
    "countPATH <- \"/bigdata/faustmanlab/bch/testis_coculture_baseline/aligned/count_files\"\n",
    "\n",
    "files <- list.files(path=countPATH, pattern=\"*.tab\", full.names=TRUE)\n",
    "names(files) <- lapply(strsplit(files, \"/|_\"), \"[\",8)\n",
    "countslist <- lapply(files, read.delim, sep=\"\\t\", header=FALSE)\n",
    "names(countslist)<- names(files)\n",
    "colnames<- c(\"gene\", \"unstranded_counts\", \"Fstreadalign\",\"Sndreadalign\")\n"
   ]
  },
  {
   "cell_type": "code",
   "execution_count": null,
   "metadata": {},
   "outputs": [],
   "source": [
    "# check that this is proper column\n",
    "\n",
    "for (i in seq_along(countslist)){\n",
    "  colnames(countslist[[i]]) <- colnames}\n",
    "\n",
    "counts_temp <- lapply(countslist, function(x) {x <- x %>% dplyr::select(-c(unstranded_counts,htseq_count_Fstreadalign))})\n",
    "counts_use <- lapply(counts_temp, function(x) {x <- x[-c(1:4),]})\n",
    "all_counts <- reduce(counts_use, full_join, by = \"gene\")\n",
    "colnames(all_counts)<-c(\"gene\", names(counts_use))\n",
    "\n",
    "rownames(all_counts)<- all_counts$gene\n",
    "all_counts <- all_counts[,-1]\n",
    "\n",
    "\n",
    "\n",
    "head(all_counts)\n",
    "\n",
    "counts108348 = all_counts"
   ]
  }
 ],
 "metadata": {
  "interpreter": {
   "hash": "6e3c4fc0950aa63ef7bc9a4700bf9637652f40f7a53372464e6456fc41142b34"
  },
  "kernelspec": {
   "display_name": "Python 3.9.12 ('base')",
   "language": "python",
   "name": "python3"
  },
  "language_info": {
   "codemirror_mode": {
    "name": "ipython",
    "version": 3
   },
   "file_extension": ".py",
   "mimetype": "text/x-python",
   "name": "python",
   "nbconvert_exporter": "python",
   "pygments_lexer": "ipython3",
   "version": "3.9.12"
  },
  "orig_nbformat": 4
 },
 "nbformat": 4,
 "nbformat_minor": 2
}
